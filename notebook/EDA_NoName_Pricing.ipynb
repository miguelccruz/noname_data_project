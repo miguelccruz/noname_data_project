{
 "cells": [
  {
   "cell_type": "markdown",
   "metadata": {},
   "source": [
    "### EDA No Frills No Name Pricing Data"
   ]
  },
  {
   "cell_type": "markdown",
   "metadata": {},
   "source": [
    "### Import Libraries"
   ]
  },
  {
   "cell_type": "code",
   "execution_count": 26,
   "metadata": {},
   "outputs": [],
   "source": [
    "import numpy as np\n",
    "import pandas as pd\n",
    "import matplotlib.pyplot as plt\n",
    "import seaborn as sns\n",
    "plt.style.use('ggplot')"
   ]
  },
  {
   "cell_type": "markdown",
   "metadata": {},
   "source": [
    "### Reading and Understanding Data"
   ]
  },
  {
   "cell_type": "code",
   "execution_count": 27,
   "metadata": {},
   "outputs": [
    {
     "name": "stderr",
     "output_type": "stream",
     "text": [
      "C:\\Users\\Miguel\\AppData\\Local\\Temp\\ipykernel_8760\\2854144697.py:1: DtypeWarning: Columns (1) have mixed types. Specify dtype option on import or set low_memory=False.\n",
      "  df = pd.read_csv('csv/all_data.csv')\n"
     ]
    },
    {
     "name": "stdout",
     "output_type": "stream",
     "text": [
      "<class 'pandas.core.frame.DataFrame'>\n",
      "RangeIndex: 1099168 entries, 0 to 1099167\n",
      "Data columns (total 11 columns):\n",
      " #   Column          Non-Null Count    Dtype  \n",
      "---  ------          --------------    -----  \n",
      " 0   Date            1099168 non-null  int64  \n",
      " 1   Store ID        1099168 non-null  object \n",
      " 2   Code            1099168 non-null  object \n",
      " 3   Article Number  1099168 non-null  int64  \n",
      " 4   Name            1099168 non-null  object \n",
      " 5   aisle           1099168 non-null  object \n",
      " 6   Brand           1099168 non-null  object \n",
      " 7   Package Size    1098313 non-null  object \n",
      " 8   Price           1099168 non-null  float64\n",
      " 9   Unit            1099168 non-null  object \n",
      " 10  Sale Type       1099168 non-null  object \n",
      "dtypes: float64(1), int64(2), object(8)\n",
      "memory usage: 92.2+ MB\n"
     ]
    }
   ],
   "source": [
    "df = pd.read_csv('csv/all_data.csv')\n",
    "df.info()"
   ]
  },
  {
   "cell_type": "code",
   "execution_count": 28,
   "metadata": {},
   "outputs": [
    {
     "data": {
      "text/plain": [
       "Date               240\n",
       "Store ID           539\n",
       "Code              1305\n",
       "Article Number    1304\n",
       "Name              1188\n",
       "aisle               12\n",
       "Brand                1\n",
       "Package Size       307\n",
       "Price              270\n",
       "Unit                 4\n",
       "Sale Type            2\n",
       "dtype: int64"
      ]
     },
     "execution_count": 28,
     "metadata": {},
     "output_type": "execute_result"
    }
   ],
   "source": [
    "df.nunique()"
   ]
  },
  {
   "cell_type": "markdown",
   "metadata": {},
   "source": [
    "### To-Do's\n",
    "\n",
    "- Check duplicates\n",
    "- Check missing values\n",
    "- Transform Date from int64 to datetime format\n",
    "- Check values in categorical features"
   ]
  },
  {
   "cell_type": "markdown",
   "metadata": {},
   "source": [
    "#### Transform Date from int64 to datetime format"
   ]
  },
  {
   "cell_type": "code",
   "execution_count": 29,
   "metadata": {},
   "outputs": [],
   "source": [
    "df['Date'] = pd.to_datetime(df['Date'], format = '%Y%m%d')\n",
    "df['Date'] = df['Date'].dt.strftime('%m-%d-%Y')"
   ]
  },
  {
   "cell_type": "code",
   "execution_count": 30,
   "metadata": {},
   "outputs": [
    {
     "data": {
      "text/html": [
       "<div>\n",
       "<style scoped>\n",
       "    .dataframe tbody tr th:only-of-type {\n",
       "        vertical-align: middle;\n",
       "    }\n",
       "\n",
       "    .dataframe tbody tr th {\n",
       "        vertical-align: top;\n",
       "    }\n",
       "\n",
       "    .dataframe thead th {\n",
       "        text-align: right;\n",
       "    }\n",
       "</style>\n",
       "<table border=\"1\" class=\"dataframe\">\n",
       "  <thead>\n",
       "    <tr style=\"text-align: right;\">\n",
       "      <th></th>\n",
       "      <th>Date</th>\n",
       "      <th>Store ID</th>\n",
       "      <th>Code</th>\n",
       "      <th>Article Number</th>\n",
       "      <th>Name</th>\n",
       "      <th>aisle</th>\n",
       "      <th>Brand</th>\n",
       "      <th>Package Size</th>\n",
       "      <th>Price</th>\n",
       "      <th>Unit</th>\n",
       "      <th>Sale Type</th>\n",
       "    </tr>\n",
       "  </thead>\n",
       "  <tbody>\n",
       "    <tr>\n",
       "      <th>0</th>\n",
       "      <td>09-03-2023</td>\n",
       "      <td>1302</td>\n",
       "      <td>21309894_EA</td>\n",
       "      <td>21309894</td>\n",
       "      <td>Lemon Fresh Dishwashing Liquid</td>\n",
       "      <td>Household Supplies</td>\n",
       "      <td>No Name</td>\n",
       "      <td>800 ml</td>\n",
       "      <td>2.29</td>\n",
       "      <td>ea</td>\n",
       "      <td>REGULAR</td>\n",
       "    </tr>\n",
       "    <tr>\n",
       "      <th>1</th>\n",
       "      <td>09-03-2023</td>\n",
       "      <td>1302</td>\n",
       "      <td>20058286_EA</td>\n",
       "      <td>20058286</td>\n",
       "      <td>Plastic Wrap</td>\n",
       "      <td>Household Supplies</td>\n",
       "      <td>No Name</td>\n",
       "      <td>30 m</td>\n",
       "      <td>2.49</td>\n",
       "      <td>ea</td>\n",
       "      <td>REGULAR</td>\n",
       "    </tr>\n",
       "    <tr>\n",
       "      <th>2</th>\n",
       "      <td>09-03-2023</td>\n",
       "      <td>1302</td>\n",
       "      <td>20685773003_EA</td>\n",
       "      <td>20685773003</td>\n",
       "      <td>Vanilla Stirred 0% M.F. Yogurt</td>\n",
       "      <td>Dairy &amp; Eggs</td>\n",
       "      <td>No Name</td>\n",
       "      <td>650 g</td>\n",
       "      <td>3.19</td>\n",
       "      <td>ea</td>\n",
       "      <td>REGULAR</td>\n",
       "    </tr>\n",
       "    <tr>\n",
       "      <th>3</th>\n",
       "      <td>09-03-2023</td>\n",
       "      <td>1302</td>\n",
       "      <td>20628489002_EA</td>\n",
       "      <td>20628489002</td>\n",
       "      <td>Italian Dressing</td>\n",
       "      <td>Not Available</td>\n",
       "      <td>No Name</td>\n",
       "      <td>475 ml</td>\n",
       "      <td>2.79</td>\n",
       "      <td>ea</td>\n",
       "      <td>REGULAR</td>\n",
       "    </tr>\n",
       "    <tr>\n",
       "      <th>4</th>\n",
       "      <td>09-03-2023</td>\n",
       "      <td>1302</td>\n",
       "      <td>20150692_EA</td>\n",
       "      <td>20150692</td>\n",
       "      <td>Original Snack Crackers</td>\n",
       "      <td>Snacks, Chips &amp; Candy</td>\n",
       "      <td>No Name</td>\n",
       "      <td>900 g</td>\n",
       "      <td>6.99</td>\n",
       "      <td>ea</td>\n",
       "      <td>REGULAR</td>\n",
       "    </tr>\n",
       "  </tbody>\n",
       "</table>\n",
       "</div>"
      ],
      "text/plain": [
       "         Date Store ID            Code  Article Number  \\\n",
       "0  09-03-2023     1302     21309894_EA        21309894   \n",
       "1  09-03-2023     1302     20058286_EA        20058286   \n",
       "2  09-03-2023     1302  20685773003_EA     20685773003   \n",
       "3  09-03-2023     1302  20628489002_EA     20628489002   \n",
       "4  09-03-2023     1302     20150692_EA        20150692   \n",
       "\n",
       "                              Name                  aisle    Brand  \\\n",
       "0  Lemon Fresh Dishwashing Liquid      Household Supplies  No Name   \n",
       "1                     Plastic Wrap     Household Supplies  No Name   \n",
       "2   Vanilla Stirred 0% M.F. Yogurt           Dairy & Eggs  No Name   \n",
       "3                 Italian Dressing          Not Available  No Name   \n",
       "4          Original Snack Crackers  Snacks, Chips & Candy  No Name   \n",
       "\n",
       "  Package Size  Price Unit Sale Type  \n",
       "0       800 ml   2.29   ea   REGULAR  \n",
       "1         30 m   2.49   ea   REGULAR  \n",
       "2        650 g   3.19   ea   REGULAR  \n",
       "3       475 ml   2.79   ea   REGULAR  \n",
       "4        900 g   6.99   ea   REGULAR  "
      ]
     },
     "execution_count": 30,
     "metadata": {},
     "output_type": "execute_result"
    }
   ],
   "source": [
    "df.head()"
   ]
  },
  {
   "cell_type": "code",
   "execution_count": 31,
   "metadata": {},
   "outputs": [
    {
     "data": {
      "text/plain": [
       "(1099168, 11)"
      ]
     },
     "execution_count": 31,
     "metadata": {},
     "output_type": "execute_result"
    }
   ],
   "source": [
    "df.shape"
   ]
  },
  {
   "cell_type": "code",
   "execution_count": 32,
   "metadata": {},
   "outputs": [
    {
     "data": {
      "text/plain": [
       "Date                0\n",
       "Store ID            0\n",
       "Code                0\n",
       "Article Number      0\n",
       "Name                0\n",
       "aisle               0\n",
       "Brand               0\n",
       "Package Size      855\n",
       "Price               0\n",
       "Unit                0\n",
       "Sale Type           0\n",
       "dtype: int64"
      ]
     },
     "execution_count": 32,
     "metadata": {},
     "output_type": "execute_result"
    }
   ],
   "source": [
    "missing_data = df.isna().sum()\n",
    "missing_data"
   ]
  },
  {
   "cell_type": "markdown",
   "metadata": {},
   "source": [
    "##### Filter rows that have missing values"
   ]
  },
  {
   "cell_type": "code",
   "execution_count": 33,
   "metadata": {},
   "outputs": [
    {
     "data": {
      "text/html": [
       "<div>\n",
       "<style scoped>\n",
       "    .dataframe tbody tr th:only-of-type {\n",
       "        vertical-align: middle;\n",
       "    }\n",
       "\n",
       "    .dataframe tbody tr th {\n",
       "        vertical-align: top;\n",
       "    }\n",
       "\n",
       "    .dataframe thead th {\n",
       "        text-align: right;\n",
       "    }\n",
       "</style>\n",
       "<table border=\"1\" class=\"dataframe\">\n",
       "  <thead>\n",
       "    <tr style=\"text-align: right;\">\n",
       "      <th></th>\n",
       "      <th>Date</th>\n",
       "      <th>Store ID</th>\n",
       "      <th>Code</th>\n",
       "      <th>Article Number</th>\n",
       "      <th>Name</th>\n",
       "      <th>aisle</th>\n",
       "      <th>Brand</th>\n",
       "      <th>Package Size</th>\n",
       "      <th>Price</th>\n",
       "      <th>Unit</th>\n",
       "      <th>Sale Type</th>\n",
       "    </tr>\n",
       "  </thead>\n",
       "  <tbody>\n",
       "    <tr>\n",
       "      <th>13539</th>\n",
       "      <td>09-07-2023</td>\n",
       "      <td>7182</td>\n",
       "      <td>20188379_KG</td>\n",
       "      <td>20188379</td>\n",
       "      <td>Pork Cottage Roll</td>\n",
       "      <td>Meat</td>\n",
       "      <td>No Name</td>\n",
       "      <td>NaN</td>\n",
       "      <td>18.15</td>\n",
       "      <td>ea</td>\n",
       "      <td>REGULAR</td>\n",
       "    </tr>\n",
       "    <tr>\n",
       "      <th>13540</th>\n",
       "      <td>09-07-2023</td>\n",
       "      <td>7182</td>\n",
       "      <td>20188379_KG</td>\n",
       "      <td>20188379</td>\n",
       "      <td>Pork Cottage Roll</td>\n",
       "      <td>Meat</td>\n",
       "      <td>No Name</td>\n",
       "      <td>NaN</td>\n",
       "      <td>18.15</td>\n",
       "      <td>ea</td>\n",
       "      <td>REGULAR</td>\n",
       "    </tr>\n",
       "    <tr>\n",
       "      <th>13558</th>\n",
       "      <td>09-07-2023</td>\n",
       "      <td>7188</td>\n",
       "      <td>20188379_KG</td>\n",
       "      <td>20188379</td>\n",
       "      <td>Pork Cottage Roll</td>\n",
       "      <td>Meat</td>\n",
       "      <td>No Name</td>\n",
       "      <td>NaN</td>\n",
       "      <td>18.15</td>\n",
       "      <td>ea</td>\n",
       "      <td>REGULAR</td>\n",
       "    </tr>\n",
       "    <tr>\n",
       "      <th>13559</th>\n",
       "      <td>09-07-2023</td>\n",
       "      <td>7188</td>\n",
       "      <td>20188379_KG</td>\n",
       "      <td>20188379</td>\n",
       "      <td>Pork Cottage Roll</td>\n",
       "      <td>Meat</td>\n",
       "      <td>No Name</td>\n",
       "      <td>NaN</td>\n",
       "      <td>18.15</td>\n",
       "      <td>ea</td>\n",
       "      <td>REGULAR</td>\n",
       "    </tr>\n",
       "    <tr>\n",
       "      <th>13654</th>\n",
       "      <td>09-07-2023</td>\n",
       "      <td>7206</td>\n",
       "      <td>20188379_KG</td>\n",
       "      <td>20188379</td>\n",
       "      <td>Pork Cottage Roll</td>\n",
       "      <td>Meat</td>\n",
       "      <td>No Name</td>\n",
       "      <td>NaN</td>\n",
       "      <td>16.50</td>\n",
       "      <td>ea</td>\n",
       "      <td>REGULAR</td>\n",
       "    </tr>\n",
       "    <tr>\n",
       "      <th>...</th>\n",
       "      <td>...</td>\n",
       "      <td>...</td>\n",
       "      <td>...</td>\n",
       "      <td>...</td>\n",
       "      <td>...</td>\n",
       "      <td>...</td>\n",
       "      <td>...</td>\n",
       "      <td>...</td>\n",
       "      <td>...</td>\n",
       "      <td>...</td>\n",
       "      <td>...</td>\n",
       "    </tr>\n",
       "    <tr>\n",
       "      <th>1085508</th>\n",
       "      <td>05-21-2024</td>\n",
       "      <td>3135</td>\n",
       "      <td>20110562_KG</td>\n",
       "      <td>20110562</td>\n",
       "      <td>Bologna Chunks</td>\n",
       "      <td>Deli</td>\n",
       "      <td>No Name</td>\n",
       "      <td>NaN</td>\n",
       "      <td>1.10</td>\n",
       "      <td>g</td>\n",
       "      <td>REGULAR</td>\n",
       "    </tr>\n",
       "    <tr>\n",
       "      <th>1088785</th>\n",
       "      <td>05-21-2024</td>\n",
       "      <td>7077</td>\n",
       "      <td>20804532_KG</td>\n",
       "      <td>20804532</td>\n",
       "      <td>Sliced Mild Sugar Cured Bacon</td>\n",
       "      <td>Meat</td>\n",
       "      <td>No Name</td>\n",
       "      <td>NaN</td>\n",
       "      <td>23.72</td>\n",
       "      <td>ea</td>\n",
       "      <td>REGULAR</td>\n",
       "    </tr>\n",
       "    <tr>\n",
       "      <th>1090348</th>\n",
       "      <td>05-22-2024</td>\n",
       "      <td>3142</td>\n",
       "      <td>20188379_KG</td>\n",
       "      <td>20188379</td>\n",
       "      <td>Pork Cottage Roll</td>\n",
       "      <td>Meat</td>\n",
       "      <td>No Name</td>\n",
       "      <td>NaN</td>\n",
       "      <td>18.15</td>\n",
       "      <td>ea</td>\n",
       "      <td>REGULAR</td>\n",
       "    </tr>\n",
       "    <tr>\n",
       "      <th>1092240</th>\n",
       "      <td>05-22-2024</td>\n",
       "      <td>3684</td>\n",
       "      <td>20110562_KG</td>\n",
       "      <td>20110562</td>\n",
       "      <td>Bologna Chunks</td>\n",
       "      <td>Deli</td>\n",
       "      <td>No Name</td>\n",
       "      <td>NaN</td>\n",
       "      <td>1.10</td>\n",
       "      <td>g</td>\n",
       "      <td>REGULAR</td>\n",
       "    </tr>\n",
       "    <tr>\n",
       "      <th>1093538</th>\n",
       "      <td>05-22-2024</td>\n",
       "      <td>7087</td>\n",
       "      <td>20188379_KG</td>\n",
       "      <td>20188379</td>\n",
       "      <td>Pork Cottage Roll</td>\n",
       "      <td>Meat</td>\n",
       "      <td>No Name</td>\n",
       "      <td>NaN</td>\n",
       "      <td>18.15</td>\n",
       "      <td>ea</td>\n",
       "      <td>REGULAR</td>\n",
       "    </tr>\n",
       "  </tbody>\n",
       "</table>\n",
       "<p>855 rows × 11 columns</p>\n",
       "</div>"
      ],
      "text/plain": [
       "               Date Store ID         Code  Article Number  \\\n",
       "13539    09-07-2023     7182  20188379_KG        20188379   \n",
       "13540    09-07-2023     7182  20188379_KG        20188379   \n",
       "13558    09-07-2023     7188  20188379_KG        20188379   \n",
       "13559    09-07-2023     7188  20188379_KG        20188379   \n",
       "13654    09-07-2023     7206  20188379_KG        20188379   \n",
       "...             ...      ...          ...             ...   \n",
       "1085508  05-21-2024     3135  20110562_KG        20110562   \n",
       "1088785  05-21-2024     7077  20804532_KG        20804532   \n",
       "1090348  05-22-2024     3142  20188379_KG        20188379   \n",
       "1092240  05-22-2024     3684  20110562_KG        20110562   \n",
       "1093538  05-22-2024     7087  20188379_KG        20188379   \n",
       "\n",
       "                                  Name aisle    Brand Package Size  Price  \\\n",
       "13539                Pork Cottage Roll  Meat  No Name          NaN  18.15   \n",
       "13540                Pork Cottage Roll  Meat  No Name          NaN  18.15   \n",
       "13558                Pork Cottage Roll  Meat  No Name          NaN  18.15   \n",
       "13559                Pork Cottage Roll  Meat  No Name          NaN  18.15   \n",
       "13654                Pork Cottage Roll  Meat  No Name          NaN  16.50   \n",
       "...                                ...   ...      ...          ...    ...   \n",
       "1085508                 Bologna Chunks  Deli  No Name          NaN   1.10   \n",
       "1088785  Sliced Mild Sugar Cured Bacon  Meat  No Name          NaN  23.72   \n",
       "1090348              Pork Cottage Roll  Meat  No Name          NaN  18.15   \n",
       "1092240                 Bologna Chunks  Deli  No Name          NaN   1.10   \n",
       "1093538              Pork Cottage Roll  Meat  No Name          NaN  18.15   \n",
       "\n",
       "        Unit Sale Type  \n",
       "13539     ea   REGULAR  \n",
       "13540     ea   REGULAR  \n",
       "13558     ea   REGULAR  \n",
       "13559     ea   REGULAR  \n",
       "13654     ea   REGULAR  \n",
       "...      ...       ...  \n",
       "1085508    g   REGULAR  \n",
       "1088785   ea   REGULAR  \n",
       "1090348   ea   REGULAR  \n",
       "1092240    g   REGULAR  \n",
       "1093538   ea   REGULAR  \n",
       "\n",
       "[855 rows x 11 columns]"
      ]
     },
     "execution_count": 33,
     "metadata": {},
     "output_type": "execute_result"
    }
   ],
   "source": [
    "rows_with_missing_data = df[df.isna().any(axis=1)]\n",
    "rows_with_missing_data"
   ]
  },
  {
   "cell_type": "markdown",
   "metadata": {},
   "source": [
    "- All missing values seem to some from the package size column which is from the Meat/Deli aisle so lack of package size makes sense"
   ]
  },
  {
   "cell_type": "markdown",
   "metadata": {},
   "source": [
    "#### Check how many of the Meat/Deli has in the data set"
   ]
  },
  {
   "cell_type": "code",
   "execution_count": 34,
   "metadata": {},
   "outputs": [
    {
     "data": {
      "text/plain": [
       "855"
      ]
     },
     "execution_count": 34,
     "metadata": {},
     "output_type": "execute_result"
    }
   ],
   "source": [
    "name_count = df['Name'].value_counts()\n",
    "meat_deli_counts = name_count[['Pork Cottage Roll', 'Bologna Chunks', 'Sliced Mild Sugar Cured Bacon', 'Mild Sugar Cured Bacon']].sum()\n",
    "meat_deli_counts"
   ]
  },
  {
   "cell_type": "markdown",
   "metadata": {},
   "source": [
    "#### Duplicated values"
   ]
  },
  {
   "cell_type": "code",
   "execution_count": 35,
   "metadata": {},
   "outputs": [
    {
     "data": {
      "text/plain": [
       "(1099168, 11)"
      ]
     },
     "execution_count": 35,
     "metadata": {},
     "output_type": "execute_result"
    }
   ],
   "source": [
    "df.duplicated().drop_duplicates()\n",
    "df.shape"
   ]
  },
  {
   "cell_type": "markdown",
   "metadata": {},
   "source": [
    "No duplicate rows found"
   ]
  },
  {
   "cell_type": "markdown",
   "metadata": {},
   "source": [
    "#### How many items are sold in each store throughout the timeframe of the data set"
   ]
  },
  {
   "cell_type": "code",
   "execution_count": 61,
   "metadata": {},
   "outputs": [
    {
     "data": {
      "image/png": "[encoded data removed]",
      "text/plain": [
       "<Figure size 800x400 with 1 Axes>"
      ]
     },
     "metadata": {},
     "output_type": "display_data"
    }
   ],
   "source": [
    "unique_items_per_store = df.groupby('Store ID')['Name'].nunique()\n",
    "# Sorted from smallest count to largest\n",
    "top_10_store_ids = unique_items_per_store.nsmallest(539)\n",
    "\n",
    "# Plot the bar graph\n",
    "plt.figure(figsize=(8, 4))\n",
    "top_10_store_ids.plot(kind='bar')\n",
    "plt.title('Count of unique items per Store ID')\n",
    "plt.xlabel('Store ID')\n",
    "plt.ylabel('Count')\n",
    "plt.xticks(rotation=45)\n",
    "plt.show()"
   ]
  },
  {
   "cell_type": "markdown",
   "metadata": {},
   "source": [
    "As suspected there seems to be an issue with how the data set is recorded because  the 'Store ID' column is not tied to a specific store \\\n",
    "I can't seem to find resources online indicating what the 'Store ID' values are."
   ]
  },
  {
   "cell_type": "code",
   "execution_count": 64,
   "metadata": {},
   "outputs": [
    {
     "data": {
      "image/png": "[encoded data removed]",
      "text/plain": [
       "<Figure size 500x300 with 1 Axes>"
      ]
     },
     "metadata": {},
     "output_type": "display_data"
    }
   ],
   "source": [
    "over_300 = (top_10_store_ids > 300).sum()\n",
    "under_300 = (top_10_store_ids <= 300).sum()\n",
    "\n",
    "store_id_count_data = pd.DataFrame({\n",
    "    'Category': ['Over 300 Items', 'Under 300 Items'],\n",
    "    'Count': [over_300, under_300]\n",
    "})\n",
    "\n",
    "plt.figure(figsize=(5, 3))\n",
    "plt.bar(store_id_count_data['Category'], store_id_count_data['Count'], color=['green', 'red'])\n",
    "plt.title('Comparison of Store IDs by Number of Unique Items')\n",
    "plt.xlabel('Category')\n",
    "plt.ylabel('Number of Store IDs')\n",
    "plt.show()"
   ]
  }
 ],
 "metadata": {
  "kernelspec": {
   "display_name": "Python 3",
   "language": "python",
   "name": "python3"
  },
  "language_info": {
   "codemirror_mode": {
    "name": "ipython",
    "version": 3
   },
   "file_extension": ".py",
   "mimetype": "text/x-python",
   "name": "python",
   "nbconvert_exporter": "python",
   "pygments_lexer": "ipython3",
   "version": "3.11.9"
  }
 },
 "nbformat": 4,
 "nbformat_minor": 2
}
